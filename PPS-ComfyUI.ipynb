{
 "cells": [
  {
   "cell_type": "markdown",
   "id": "027b3524-75f7-4424-b59a-866b637d2da9",
   "metadata": {},
   "source": [
    "# How to run SD3 with ComfyUI from thelastben's Fast Stable Diffusion\n",
    "\n",
    "Step 1. On the lefthand side of the Paperspace Console UI, locate the terminal button (3rd right from the bottom)\n",
    "\n",
    "Step 2. Open a new terminal window\n",
    "\n",
    "Step 3. Enter the following to login with HuggingFace: `huggingface-cli login`. If you do not already have one, create an account and create a read-only API token using this [link](https://huggingface.co/settings/tokens)\n",
    "\n",
    "Step 3.5: If you have not already, go to the [Stable Diffusion 3 Medium](https://huggingface.co/stabilityai/stable-diffusion-3-medium) HuggingFace webpage and authenticate your account to download it. \n",
    "\n",
    "Step 4. Run the code cell below, and then scroll past it to get your next instructions"
   ]
  },
  {
   "cell_type": "code",
   "execution_count": 4,
   "id": "230fe1c8-6d0f-4eb6-976d-6b842c392ffb",
   "metadata": {
    "execution": {
     "iopub.execute_input": "2024-07-09T15:40:31.750748Z",
     "iopub.status.busy": "2024-07-09T15:40:31.750521Z",
     "iopub.status.idle": "2024-07-09T15:40:31.890291Z",
     "shell.execute_reply": "2024-07-09T15:40:31.889806Z",
     "shell.execute_reply.started": "2024-07-09T15:40:31.750729Z"
    },
    "tags": []
   },
   "outputs": [
    {
     "data": {
      "text/plain": [
       "'/root/.cache/huggingface/hub/models--stabilityai--stable-diffusion-3-medium/snapshots/c7c317ea9032a4ef316cbb12e3e81f9700bb81cc/text_encoders/clip_g.safetensors'"
      ]
     },
     "execution_count": 4,
     "metadata": {},
     "output_type": "execute_result"
    }
   ],
   "source": [
    "from huggingface_hub import hf_hub_download\n",
    "# hf_hub_download(repo_id=\"stabilityai/stable-diffusion-3-medium\", filename=\"sd3_medium.safetensors\")\n",
    "hf_hub_download(repo_id=\"stabilityai/stable-diffusion-3-medium\", filename=\"text_encoders/clip_g.safetensors\")\n",
    "# hf_hub_download(repo_id=\"stabilityai/stable-diffusion-3-medium\", filename=\"text_encoders/t5xxl_fp16.safetensors\")\n",
    "# hf_hub_download(repo_id=\"stabilityai/stable-diffusion-3-medium\", filename=\"text_encoders/clip_l.safetensors\")\n"
   ]
  },
  {
   "cell_type": "markdown",
   "id": "05551e79-23d4-4013-b9d7-39f4fef7acf9",
   "metadata": {},
   "source": [
    "Step 5. Copy the location of your saved models printed from the cell above, and paste them below in the following format:\n",
    "\n",
    "### Note:\n",
    "You need to slightly edit the text encoders so that you are moving all the encoders over properly. For example:\n",
    "\n",
    "`'/root/.cache/huggingface/hub/models--stabilityai--stable-diffusion-3-medium/snapshots/c7c317ea9032a4ef316cbb12e3e81f9700bb81cc/text_encoders/clip_g.safetensors'`\n",
    "\n",
    "becomes\n",
    "\n",
    "`'/root/.cache/huggingface/hub/models--stabilityai--stable-diffusion-3-medium/snapshots/c7c317ea9032a4ef316cbb12e3e81f9700bb81cc/text_encoders/*'`\n",
    "```\n",
    "!mv '<your location>/text_encoders/*' /notebooks/ComfyUI/models/clip/\n",
    "!mv '<your location>' /notebooks/ComfyUI/models/checkpoints/\n",
    "```"
   ]
  },
  {
   "cell_type": "code",
   "execution_count": null,
   "id": "c0769dec-3a57-445a-8563-c053de1d4e4d",
   "metadata": {},
   "outputs": [],
   "source": [
    "!mv '/root/.cache/huggingface/hub/models--stabilityai--stable-diffusion-3-medium/snapshots/c7c317ea9032a4ef316cbb12e3e81f9700bb81cc/text_encoders/*' /notebooks/ComfyUI/models/clip/\n",
    "!mv '/root/.cache/huggingface/hub/models--stabilityai--stable-diffusion-3-medium/snapshots/c7c317ea9032a4ef316cbb12e3e81f9700bb81cc/sd3_medium.safetensors' /notebooks/ComfyUI/models/checkpoints/"
   ]
  },
  {
   "cell_type": "markdown",
   "id": "9e42bc1e-9825-4587-b533-c74607b1a377",
   "metadata": {},
   "source": [
    "## ComfyUI Paperspace Notebook From https://github.com/TheLastBen/fast-stable-diffusion, if you encounter any issues, feel free to discuss them."
   ]
  },
  {
   "cell_type": "markdown",
   "id": "813d4d10-e6d1-42b1-ae37-ae41ad47e595",
   "metadata": {},
   "source": [
    "# Dependencies"
   ]
  },
  {
   "cell_type": "code",
   "execution_count": 12,
   "id": "bfd51417-bba8-41fb-ae56-c6555e2a0465",
   "metadata": {
    "execution": {
     "iopub.execute_input": "2024-07-09T16:00:11.428538Z",
     "iopub.status.busy": "2024-07-09T16:00:11.428024Z",
     "iopub.status.idle": "2024-07-09T16:00:12.741800Z",
     "shell.execute_reply": "2024-07-09T16:00:12.741350Z",
     "shell.execute_reply.started": "2024-07-09T16:00:11.428518Z"
    },
    "tags": []
   },
   "outputs": [
    {
     "name": "stdout",
     "output_type": "stream",
     "text": [
      "\u001b[1;32mModules and notebooks updated, dependencies already installed\n"
     ]
    }
   ],
   "source": [
    "# Install the dependencies\n",
    "\n",
    "force_reinstall= False\n",
    "\n",
    "# Set to true only if you want to install the dependencies again.\n",
    "\n",
    "#--------------------\n",
    "with open('/dev/null', 'w') as devnull:import requests, os, importlib;sc=\"mainppsComfy.py\" if os.path.exists('/usr/local/lib/python3.9') else \"mainppsComfy_311.py\";open('/notebooks/mainppsComfy.py', 'wb').write(requests.get('https://huggingface.co/datasets/TheLastBen/PPS/raw/main/Scripts/'+sc).content);os.chdir('/notebooks');import mainppsComfy;importlib.reload(mainppsComfy);from mainppsComfy import *;Deps(force_reinstall)"
   ]
  },
  {
   "cell_type": "code",
   "execution_count": 13,
   "id": "c1af0bf0-5a6d-4f33-ae74-750bba45679c",
   "metadata": {
    "execution": {
     "iopub.execute_input": "2024-07-09T16:00:31.035807Z",
     "iopub.status.busy": "2024-07-09T16:00:31.035258Z",
     "iopub.status.idle": "2024-07-09T16:00:33.985986Z",
     "shell.execute_reply": "2024-07-09T16:00:33.985326Z",
     "shell.execute_reply.started": "2024-07-09T16:00:31.035786Z"
    }
   },
   "outputs": [
    {
     "name": "stdout",
     "output_type": "stream",
     "text": [
      "Requirement already satisfied: accelerate in /usr/local/lib/python3.11/dist-packages (0.32.1)\n",
      "Requirement already satisfied: transformers in /usr/local/lib/python3.11/dist-packages (4.42.3)\n",
      "Requirement already satisfied: diffusers in /usr/local/lib/python3.11/dist-packages (0.29.2)\n",
      "Requirement already satisfied: numpy<2.0.0,>=1.17 in /usr/local/lib/python3.11/dist-packages (from accelerate) (1.26.3)\n",
      "Requirement already satisfied: packaging>=20.0 in /usr/local/lib/python3.11/dist-packages (from accelerate) (24.0)\n",
      "Requirement already satisfied: psutil in /usr/local/lib/python3.11/dist-packages (from accelerate) (5.9.8)\n",
      "Requirement already satisfied: pyyaml in /usr/local/lib/python3.11/dist-packages (from accelerate) (6.0.1)\n",
      "Requirement already satisfied: torch>=1.10.0 in /usr/local/lib/python3.11/dist-packages (from accelerate) (2.1.1+cu121)\n",
      "Requirement already satisfied: huggingface-hub in /usr/local/lib/python3.11/dist-packages (from accelerate) (0.23.4)\n",
      "Requirement already satisfied: safetensors>=0.3.1 in /usr/local/lib/python3.11/dist-packages (from accelerate) (0.4.3)\n",
      "Requirement already satisfied: filelock in /usr/local/lib/python3.11/dist-packages (from transformers) (3.14.0)\n",
      "Requirement already satisfied: regex!=2019.12.17 in /usr/local/lib/python3.11/dist-packages (from transformers) (2024.5.10)\n",
      "Requirement already satisfied: requests in /usr/local/lib/python3.11/dist-packages (from transformers) (2.31.0)\n",
      "Requirement already satisfied: tokenizers<0.20,>=0.19 in /usr/local/lib/python3.11/dist-packages (from transformers) (0.19.1)\n",
      "Requirement already satisfied: tqdm>=4.27 in /usr/local/lib/python3.11/dist-packages (from transformers) (4.66.4)\n",
      "Requirement already satisfied: importlib-metadata in /usr/lib/python3/dist-packages (from diffusers) (4.6.4)\n",
      "Requirement already satisfied: Pillow in /usr/local/lib/python3.11/dist-packages (from diffusers) (9.5.0)\n",
      "Requirement already satisfied: fsspec>=2023.5.0 in /usr/local/lib/python3.11/dist-packages (from huggingface-hub->accelerate) (2024.3.1)\n",
      "Requirement already satisfied: typing-extensions>=3.7.4.3 in /usr/local/lib/python3.11/dist-packages (from huggingface-hub->accelerate) (4.11.0)\n",
      "Requirement already satisfied: sympy in /usr/local/lib/python3.11/dist-packages (from torch>=1.10.0->accelerate) (1.12)\n",
      "Requirement already satisfied: networkx in /usr/local/lib/python3.11/dist-packages (from torch>=1.10.0->accelerate) (3.3)\n",
      "Requirement already satisfied: jinja2 in /usr/local/lib/python3.11/dist-packages (from torch>=1.10.0->accelerate) (3.1.4)\n",
      "Requirement already satisfied: triton==2.1.0 in /usr/local/lib/python3.11/dist-packages (from torch>=1.10.0->accelerate) (2.1.0)\n",
      "Requirement already satisfied: charset-normalizer<4,>=2 in /usr/local/lib/python3.11/dist-packages (from requests->transformers) (3.3.2)\n",
      "Requirement already satisfied: idna<4,>=2.5 in /usr/local/lib/python3.11/dist-packages (from requests->transformers) (3.7)\n",
      "Requirement already satisfied: urllib3<3,>=1.21.1 in /usr/local/lib/python3.11/dist-packages (from requests->transformers) (2.2.1)\n",
      "Requirement already satisfied: certifi>=2017.4.17 in /usr/local/lib/python3.11/dist-packages (from requests->transformers) (2024.2.2)\n",
      "Requirement already satisfied: MarkupSafe>=2.0 in /usr/local/lib/python3.11/dist-packages (from jinja2->torch>=1.10.0->accelerate) (2.1.5)\n",
      "Requirement already satisfied: mpmath>=0.19 in /usr/local/lib/python3.11/dist-packages (from sympy->torch>=1.10.0->accelerate) (1.3.0)\n",
      "\u001b[33mWARNING: Running pip as the 'root' user can result in broken permissions and conflicting behaviour with the system package manager. It is recommended to use a virtual environment instead: https://pip.pypa.io/warnings/venv\u001b[0m\u001b[33m\n",
      "\u001b[0m"
     ]
    }
   ],
   "source": [
    "# We have installed a custom node in addition to this demo, and that's why need to these quick updates here\n",
    "!pip install -U accelerate transformers diffusers"
   ]
  },
  {
   "cell_type": "markdown",
   "id": "76ae705b-15e3-47b9-b226-52e71ef1737d",
   "metadata": {},
   "source": [
    "# Install/Update ComfyUI"
   ]
  },
  {
   "cell_type": "code",
   "execution_count": 14,
   "id": "652afdee-64a4-483b-926a-094c884dd260",
   "metadata": {
    "execution": {
     "iopub.execute_input": "2024-07-09T16:01:13.905127Z",
     "iopub.status.busy": "2024-07-09T16:01:13.904525Z",
     "iopub.status.idle": "2024-07-09T16:01:14.389982Z",
     "shell.execute_reply": "2024-07-09T16:01:14.389488Z",
     "shell.execute_reply.started": "2024-07-09T16:01:13.905104Z"
    },
    "tags": []
   },
   "outputs": [
    {
     "data": {
      "application/vnd.jupyter.widget-view+json": {
       "model_id": "5b5800857773481c8204dd5985d9cfd3",
       "version_major": 2,
       "version_minor": 0
      },
      "text/plain": [
       "Button(button_style='success', description='Done!', disabled=True, icon='check', style=ButtonStyle(), tooltip=…"
      ]
     },
     "metadata": {},
     "output_type": "display_data"
    }
   ],
   "source": [
    "# Don't skip this cell to make sure the repo is up to date and functioning correctly\n",
    "\n",
    "#--------------------\n",
    "repo()"
   ]
  },
  {
   "cell_type": "markdown",
   "id": "ca3a26bb-8625-42b9-9e2f-e55939a536ef",
   "metadata": {},
   "source": [
    "# Model Download/Load\n",
    "\n",
    "### Mounted SDXL Data Source (see tab on right) allows instant SDXL loading without Download on Paperspace"
   ]
  },
  {
   "cell_type": "code",
   "execution_count": 15,
   "id": "1e5dbca1-5ee2-41db-be94-9d2919dc3aef",
   "metadata": {
    "execution": {
     "iopub.execute_input": "2024-07-09T16:01:34.465324Z",
     "iopub.status.busy": "2024-07-09T16:01:34.465098Z",
     "iopub.status.idle": "2024-07-09T16:01:34.480993Z",
     "shell.execute_reply": "2024-07-09T16:01:34.480646Z",
     "shell.execute_reply.started": "2024-07-09T16:01:34.465308Z"
    },
    "tags": []
   },
   "outputs": [
    {
     "name": "stdout",
     "output_type": "stream",
     "text": [
      "\u001b[1;32mUsing the original SDXL model\n"
     ]
    }
   ],
   "source": [
    "Original_Model_Version = \"SDXL\"\n",
    "\n",
    "# Choices are \"SDXL\", \"v1.5\", \"v2-512\", \"v2-768\"\n",
    "\n",
    "#-------------- Or\n",
    "\n",
    "Path_to_MODEL = \"\"\n",
    "\n",
    "# Insert the full path of your trained model or to a folder containing multiple models.\n",
    "\n",
    "\n",
    "MODEL_LINK = \"\"\n",
    "\n",
    "# A direct link to a Model or a shared gdrive link.\n",
    "\n",
    "\n",
    "#--------------------\n",
    "model=mdls(Original_Model_Version, Path_to_MODEL, MODEL_LINK)"
   ]
  },
  {
   "cell_type": "markdown",
   "id": "39bd9c28-fc3d-4a99-bb1c-e68c74ac1323",
   "metadata": {},
   "source": [
    "# LoRA Download"
   ]
  },
  {
   "cell_type": "code",
   "execution_count": 16,
   "id": "cf411d58-cce0-452c-af60-b10046149a49",
   "metadata": {
    "execution": {
     "iopub.execute_input": "2024-07-09T16:01:45.869180Z",
     "iopub.status.busy": "2024-07-09T16:01:45.868643Z",
     "iopub.status.idle": "2024-07-09T16:01:45.872133Z",
     "shell.execute_reply": "2024-07-09T16:01:45.871568Z",
     "shell.execute_reply.started": "2024-07-09T16:01:45.869162Z"
    }
   },
   "outputs": [
    {
     "name": "stdout",
     "output_type": "stream",
     "text": [
      "\u001b[1;33mNothing to do\n"
     ]
    }
   ],
   "source": [
    "# LoRA_LINK = \"https://huggingface.co/nerijs/pixel-art-xl\"\n",
    "LoRA_LINK = ''\n",
    "# Downlad the LoRA model directly to ComfyUI LoRA folder\n",
    "\n",
    "#--------------------\n",
    "loradwn(LoRA_LINK)"
   ]
  },
  {
   "cell_type": "markdown",
   "id": "02706779-fec8-4661-8589-0e28f0d4fb3b",
   "metadata": {},
   "source": [
    "# ControlNet"
   ]
  },
  {
   "cell_type": "code",
   "execution_count": 17,
   "id": "222cdfd7-38f1-422b-81a2-963a2a8d504b",
   "metadata": {
    "execution": {
     "iopub.execute_input": "2024-07-09T16:02:35.036175Z",
     "iopub.status.busy": "2024-07-09T16:02:35.035922Z",
     "iopub.status.idle": "2024-07-09T16:02:35.873406Z",
     "shell.execute_reply": "2024-07-09T16:02:35.872925Z",
     "shell.execute_reply.started": "2024-07-09T16:02:35.036157Z"
    },
    "tags": []
   },
   "outputs": [
    {
     "data": {
      "application/vnd.jupyter.widget-view+json": {
       "model_id": "ff135f06084845f1af66995d175c41ff",
       "version_major": 2,
       "version_minor": 0
      },
      "text/plain": [
       "Button(button_style='success', description='Done!', disabled=True, icon='check', style=ButtonStyle(), tooltip=…"
      ]
     },
     "metadata": {},
     "output_type": "display_data"
    }
   ],
   "source": [
    "# Download/update ControlNet extension and its models.\n",
    "\n",
    "ControlNet_v1_Model = \"none\"\n",
    "\n",
    "# Choices are : none; all; 1: Canny; 2: Depth; 3: Lineart; 4: MLSD; 5: Normal; 6: OpenPose; 7: Scribble; 8: Seg; 9: ip2p; 10:Shuffle; 11: Inpaint; 12: Softedge; 13: Lineart_Anime; 14: Tile; 15: T2iadapter_Models\n",
    "\n",
    "ControlNet_XL_Model = \"none\"\n",
    "\n",
    "# Choices are : none; all; 1: Canny; 2: Depth; 3: Sketch; 4: OpenPose; 5: Recolor\n",
    "\n",
    "#--------------------\n",
    "CNet(ControlNet_v1_Model, ControlNet_XL_Model)"
   ]
  },
  {
   "cell_type": "markdown",
   "id": "48184b7b-9cd0-4f04-9c85-4464031d6596",
   "metadata": {
    "tags": []
   },
   "source": [
    "# Start ComfyUI"
   ]
  },
  {
   "cell_type": "code",
   "execution_count": null,
   "id": "e73f76a6-01a4-44d0-87a7-77fed9c9b77c",
   "metadata": {
    "execution": {
     "iopub.execute_input": "2024-07-09T16:03:02.555242Z",
     "iopub.status.busy": "2024-07-09T16:03:02.554645Z"
    },
    "scrolled": true,
    "tags": []
   },
   "outputs": [
    {
     "name": "stdout",
     "output_type": "stream",
     "text": [
      "Total VRAM 40514 MB, total RAM 90499 MB\n",
      "pytorch version: 2.1.1+cu121\n",
      "xformers version: 0.0.23\n",
      "Set vram state to: NORMAL_VRAM\n",
      "Device: cuda:0 NVIDIA A100-SXM4-40GB : cudaMallocAsync\n",
      "Using xformers cross attention\n",
      "\n",
      "Import times for custom nodes:\n",
      "   0.0 seconds: /notebooks/ComfyUI/custom_nodes/websocket_image_save.py\n",
      "   0.0 seconds: /notebooks/ComfyUI/custom_nodes/ComfyUI_UltimateSDUpscale\n",
      "   2.1 seconds: /notebooks/ComfyUI/custom_nodes/ComfyUI-KwaiKolorsWrapper\n",
      "\n",
      "Starting server\n",
      "\n",
      "\u001b[32m✔ Connected\n",
      "\u001b[1;34mhttps://tensorboard-n34km7poar.clg07azjl.paperspacegradient.com\u001b[0m\n"
     ]
    }
   ],
   "source": [
    "Args=\"--listen --port 6006 --preview-method auto\"\n",
    "\n",
    "#--------------------\n",
    "sd()\n",
    "!python /notebooks/ComfyUI/main.py $Args"
   ]
  }
 ],
 "metadata": {
  "kernelspec": {
   "display_name": "Python 3 (ipykernel)",
   "language": "python",
   "name": "python3"
  },
  "language_info": {
   "codemirror_mode": {
    "name": "ipython",
    "version": 3
   },
   "file_extension": ".py",
   "mimetype": "text/x-python",
   "name": "python",
   "nbconvert_exporter": "python",
   "pygments_lexer": "ipython3",
   "version": "3.11.7"
  }
 },
 "nbformat": 4,
 "nbformat_minor": 5
}
